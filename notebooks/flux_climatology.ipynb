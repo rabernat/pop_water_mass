{
 "metadata": {
  "name": "",
  "signature": "sha256:ed1f72166f36c4d0870fe8462e072f7511793f7d65a17f053fd963f54d70ced6"
 },
 "nbformat": 3,
 "nbformat_minor": 0,
 "worksheets": [
  {
   "cells": [
    {
     "cell_type": "code",
     "collapsed": false,
     "input": [
      "import numpy as np\n",
      "from matplotlib import pyplot as plt\n",
      "from matplotlib.colors import SymLogNorm\n",
      "%matplotlib inline\n",
      "plt.rcParams['image.origin'] = 'bottom'\n",
      "plt.rcParams['figure.figsize'] = (18,12)"
     ],
     "language": "python",
     "metadata": {},
     "outputs": [],
     "prompt_number": 1
    },
    {
     "cell_type": "code",
     "collapsed": false,
     "input": [
      "from watermasstools import pop_model\n",
      "from watermasstools import transformation\n",
      "reload(pop_model)\n",
      "reload(transformation)"
     ],
     "language": "python",
     "metadata": {},
     "outputs": [
      {
       "metadata": {},
       "output_type": "pyout",
       "prompt_number": 2,
       "text": [
        "<module 'watermasstools.transformation' from '/Users/rpa/RND/Private/pop_water_mass/watermasstools/transformation.pyc'>"
       ]
      }
     ],
     "prompt_number": 2
    },
    {
     "cell_type": "code",
     "collapsed": false,
     "input": [
      "ddir = '/Users/rpa/RND/Data/hybrid_v5_rel04_BC5_ne120_t12_pop62/'\n",
      "p = pop_model.POPFile(ddir + 'climatology.ANNUAL.nc')"
     ],
     "language": "python",
     "metadata": {},
     "outputs": [],
     "prompt_number": 3
    },
    {
     "cell_type": "code",
     "collapsed": false,
     "input": [
      "SHF = np.ma.masked_array(p.nc.variables['SHF_2'][0], p.mask)\n",
      "SFWF = np.ma.masked_array(p.nc.variables['SFWF_2'][0], p.mask)\n",
      "area = p.nc.variables['TAREA'][:] / (100.*100.)\n",
      "tlon = p.nc.variables['TLONG'][:]\n",
      "tlat = p.nc.variables['TLAT'][:]"
     ],
     "language": "python",
     "metadata": {},
     "outputs": [],
     "prompt_number": 4
    },
    {
     "cell_type": "code",
     "collapsed": false,
     "input": [
      "# for taking zonal averages\n",
      "lat = np.arange(-90,90)\n",
      "def zonal_cumsum(p, field, area=1., lat=np.arange(-90,90)):\n",
      "    sic = transformation.sum_inside_contours(\n",
      "            np.ma.masked_array(p.nc.variables['TLAT'][:], p.mask),\n",
      "            lat,\n",
      "            field,\n",
      "            area=area\n",
      "    )\n",
      "    return np.cumsum(sic)"
     ],
     "language": "python",
     "metadata": {},
     "outputs": [],
     "prompt_number": 5
    },
    {
     "cell_type": "code",
     "collapsed": false,
     "input": [
      "rho_fw = 1000.\n",
      "Sv = 1e6\n",
      "year = 24*60*60*365\n",
      "\n",
      "fw_transport = zonal_cumsum(p, p.nc.variables['SFWF_2'][0], area=area)/rho_fw\n",
      "heat_transport = zonal_cumsum(p, p.nc.variables['SHF_2'][0], area=area)"
     ],
     "language": "python",
     "metadata": {},
     "outputs": [],
     "prompt_number": 6
    },
    {
     "cell_type": "code",
     "collapsed": false,
     "input": [
      "plt.figure(figsize=(6.5,2.8))\n",
      "plt.subplot(121)\n",
      "plt.plot(lat, heat_transport / 1e15)\n",
      "plt.grid()\n",
      "plt.xlabel('latitude'); plt.xlim([-80,80])\n",
      "plt.ylabel('PW')\n",
      "plt.title('Heat Transport')\n",
      "plt.subplot(122)\n",
      "plt.plot(lat, fw_transport / Sv)\n",
      "plt.grid()\n",
      "plt.xlabel('latitude'); plt.xlim([-80,80])\n",
      "plt.ylabel('Sv')\n",
      "plt.title('Freshwater Transport')\n",
      "plt.tight_layout()\n",
      "plt.savefig('../figures/heat_freshwater_transport.pdf')"
     ],
     "language": "python",
     "metadata": {},
     "outputs": [
      {
       "metadata": {},
       "output_type": "display_data",
       "png": "[encoded data removed]",
       "text": [
        "<matplotlib.figure.Figure at 0x10c6ae790>"
       ]
      }
     ],
     "prompt_number": 7
    },
    {
     "cell_type": "code",
     "collapsed": false,
     "input": [],
     "language": "python",
     "metadata": {},
     "outputs": []
    }
   ],
   "metadata": {}
  }
 ]
}